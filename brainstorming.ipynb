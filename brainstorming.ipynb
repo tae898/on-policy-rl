{
 "cells": [
  {
   "cell_type": "code",
   "execution_count": 17,
   "id": "9cfed2cc",
   "metadata": {},
   "outputs": [],
   "source": [
    "from gymnasium.vector import SyncVectorEnv\n",
    "import gymnasium as gym\n",
    "envs = gym.make_vec(\"Pendulum-v1\", num_envs=2, vectorization_mode=\"sync\")"
   ]
  },
  {
   "cell_type": "code",
   "execution_count": 19,
   "id": "195a95fa",
   "metadata": {},
   "outputs": [
    {
     "data": {
      "text/plain": [
       "(array([[-0.14995256,  0.9886932 , -0.12224312],\n",
       "        [ 0.5760367 ,  0.8174238 , -0.91244936]], dtype=float32),\n",
       " {})"
      ]
     },
     "execution_count": 19,
     "metadata": {},
     "output_type": "execute_result"
    }
   ],
   "source": [
    "envs\n",
    "obs, infos = envs.reset(seed=42)\n",
    "obs, infos"
   ]
  },
  {
   "cell_type": "code",
   "execution_count": 25,
   "id": "130ce883",
   "metadata": {},
   "outputs": [
    {
     "data": {
      "text/plain": [
       "array([[-1.6232907],\n",
       "       [ 1.9024894]], dtype=float32)"
      ]
     },
     "execution_count": 25,
     "metadata": {},
     "output_type": "execute_result"
    }
   ],
   "source": [
    "actions = envs.action_space.sample()\n",
    "actions"
   ]
  },
  {
   "cell_type": "code",
   "execution_count": 26,
   "id": "f0925138",
   "metadata": {},
   "outputs": [
    {
     "data": {
      "text/plain": [
       "(array([[-0.37285766,  0.9278886 ,  2.163112  ],\n",
       "        [ 0.5333574 ,  0.84589   ,  1.129202  ]], dtype=float32),\n",
       " array([-3.68943237, -0.91491717]),\n",
       " array([False, False]),\n",
       " array([False, False]),\n",
       " {})"
      ]
     },
     "execution_count": 26,
     "metadata": {},
     "output_type": "execute_result"
    }
   ],
   "source": [
    "obs, rewards, terminates, truncates, infos = envs.step(actions)\n",
    "obs, rewards, terminates, truncates, infos"
   ]
  },
  {
   "cell_type": "code",
   "execution_count": 27,
   "id": "cf606273",
   "metadata": {},
   "outputs": [],
   "source": [
    "envs = gym.vector.SyncVectorEnv([\n",
    "    lambda: gym.make(\"Pendulum-v1\", g=9.81),\n",
    "    lambda: gym.make(\"Pendulum-v1\", g=1.62)\n",
    "])"
   ]
  },
  {
   "cell_type": "code",
   "execution_count": 28,
   "id": "3dec9eef",
   "metadata": {},
   "outputs": [
    {
     "data": {
      "text/plain": [
       "SyncVectorEnv(num_envs=2)"
      ]
     },
     "execution_count": 28,
     "metadata": {},
     "output_type": "execute_result"
    }
   ],
   "source": [
    "envs"
   ]
  },
  {
   "cell_type": "code",
   "execution_count": 29,
   "id": "4fcacdfc",
   "metadata": {},
   "outputs": [
    {
     "data": {
      "text/plain": [
       "(array([[-0.14995256,  0.9886932 , -0.12224312],\n",
       "        [ 0.5760367 ,  0.8174238 , -0.91244936]], dtype=float32),\n",
       " {})"
      ]
     },
     "execution_count": 29,
     "metadata": {},
     "output_type": "execute_result"
    }
   ],
   "source": [
    "obs, infos = envs.reset(seed=42)\n",
    "obs, infos"
   ]
  },
  {
   "cell_type": "code",
   "execution_count": 31,
   "id": "9dba12ed",
   "metadata": {},
   "outputs": [
    {
     "data": {
      "text/plain": [
       "array([[-0.4274926 ],\n",
       "       [-0.12189248]], dtype=float32)"
      ]
     },
     "execution_count": 31,
     "metadata": {},
     "output_type": "execute_result"
    }
   ],
   "source": [
    "actions = envs.action_space.sample()\n",
    "actions"
   ]
  },
  {
   "cell_type": "code",
   "execution_count": 21,
   "id": "f4407737",
   "metadata": {},
   "outputs": [
    {
     "data": {
      "text/plain": [
       "array([[ 1.0958242 ],\n",
       "       [-0.24448624]], dtype=float32)"
      ]
     },
     "execution_count": 21,
     "metadata": {},
     "output_type": "execute_result"
    }
   ],
   "source": [
    "actions"
   ]
  },
  {
   "cell_type": "code",
   "execution_count": 32,
   "id": "19e32f9a",
   "metadata": {},
   "outputs": [
    {
     "data": {
      "text/plain": [
       "(array([[-0.26355872,  0.96464336,  1.4909339 ],\n",
       "        [ 0.65407586,  0.75642896, -0.9522341 ]], dtype=float32),\n",
       " array([-3.17757167, -0.92584464]),\n",
       " array([False, False]),\n",
       " array([False, False]),\n",
       " {})"
      ]
     },
     "execution_count": 32,
     "metadata": {},
     "output_type": "execute_result"
    }
   ],
   "source": [
    "obs, rewards, terminates, truncates, infos = envs.step(actions)\n",
    "obs, rewards, terminates, truncates, infos"
   ]
  },
  {
   "cell_type": "code",
   "execution_count": 33,
   "id": "ebe6681b",
   "metadata": {},
   "outputs": [],
   "source": [
    "envs.close()"
   ]
  }
 ],
 "metadata": {
  "kernelspec": {
   "display_name": "dev-python3.11",
   "language": "python",
   "name": "python3"
  },
  "language_info": {
   "codemirror_mode": {
    "name": "ipython",
    "version": 3
   },
   "file_extension": ".py",
   "mimetype": "text/x-python",
   "name": "python",
   "nbconvert_exporter": "python",
   "pygments_lexer": "ipython3",
   "version": "3.11.13"
  }
 },
 "nbformat": 4,
 "nbformat_minor": 5
}
